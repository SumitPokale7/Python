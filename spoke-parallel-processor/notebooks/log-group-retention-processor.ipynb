{
 "cells": [
  {
   "cell_type": "code",
   "execution_count": null,
   "metadata": {},
   "outputs": [],
   "source": [
    "%run 'common-functions.ipynb'"
   ]
  },
  {
   "cell_type": "code",
   "execution_count": null,
   "metadata": {},
   "outputs": [],
   "source": [
    "from botocore.config import Config\n",
    "from boto3.dynamodb.conditions import Attr\n",
    "\n",
    "# aws setup\n",
    "BOTO3_CONFIG = Config(retries={\"max_attempts\": 10, \"mode\": \"adaptive\"})\n",
    "lambda_client = boto3.client(\"lambda\", region_name=\"eu-west-1\", config=BOTO3_CONFIG)\n",
    "\n",
    "EXEMPTED_ACCOUNT_IDS = [\n",
    "    \"157234191091\"\n",
    "]  # populate with any exempted accounts you wish to filter out\n"
   ]
  },
  {
   "cell_type": "code",
   "execution_count": null,
   "metadata": {},
   "outputs": [],
   "source": [
    "@dask.delayed\n",
    "def invoke_lambda(account_id, log_group_name, account_region):\n",
    "    invocation_type = \"DryRun\" if DRY_RUN else \"Event\"\n",
    "    return lambda_client.invoke(\n",
    "        FunctionName=f\"{HUB_NAME}-LMD_CW_LOG_GROUP_OPTIMIZER\",\n",
    "        InvocationType=invocation_type,\n",
    "        Payload=json.dumps(\n",
    "            {\n",
    "                \"account\": account_id,\n",
    "                \"detail\": {\n",
    "                    \"requestParameters\": {\n",
    "                        \"logGroupName\": log_group_name,\n",
    "                    },\n",
    "                    \"awsRegion\": account_region,\n",
    "                },\n",
    "            }\n",
    "        ),\n",
    "    )\n",
    "\n",
    "\n",
    "@dask.delayed\n",
    "def get_log_groups(client, account_id, account_region):\n",
    "    paginator = client.get_paginator(\"describe_log_groups\")\n",
    "    page_iterator = paginator.paginate()\n",
    "    data = []\n",
    "    data = [page[\"logGroups\"] for page in page_iterator]\n",
    "    df = pd.DataFrame([item for sublist in data for item in sublist])\n",
    "    df[\"account_id\"] = account_id\n",
    "    df[\"region\"] = account_region\n",
    "    return df\n"
   ]
  },
  {
   "cell_type": "code",
   "execution_count": null,
   "metadata": {},
   "outputs": [],
   "source": [
    "# fetch accounts from metadata once - so dont need to keep taxing ddb in case of issue\n",
    "accounts = fetch_accounts_from_metadata(\n",
    "    exempted_account_ids=EXEMPTED_ACCOUNT_IDS)\n"
   ]
  },
  {
   "cell_type": "code",
   "execution_count": null,
   "metadata": {},
   "outputs": [],
   "source": [
    "%%time\n",
    "# Fetch all cloudwatch log groups across all spokes that dont have a retentionInDays value set\n",
    "master_df = pd.DataFrame()\n",
    "dfs = []\n",
    "print(f\"Accounts to process: {len(accounts)}\")\n",
    "for account in accounts:\n",
    "    account_id = account.get(\"account\")\n",
    "    account_region = account.get(\"region\")\n",
    "    if account_region:\n",
    "        client = assume_return_boto_client(\"logs\", account_id, account_region)\n",
    "        dfs.append(get_log_groups(client, account_id, account_region))\n",
    "\n",
    "graph = dask.delayed()(dfs)\n",
    "results = graph.compute()\n",
    "master_df = pd.concat(results)\n",
    "master_df = master_df[master_df[\"retentionInDays\"].isnull()]"
   ]
  },
  {
   "cell_type": "code",
   "execution_count": null,
   "metadata": {},
   "outputs": [],
   "source": [
    "# show data frame\n",
    "master_df\n"
   ]
  },
  {
   "cell_type": "code",
   "execution_count": null,
   "metadata": {},
   "outputs": [],
   "source": [
    "%%time\n",
    "lambda_process = []\n",
    "# process all rows and invoke lambda\n",
    "for index, row in master_df.iterrows():\n",
    "    lambda_process.append(invoke_lambda(account_id=row['account_id'], log_group_name=row['logGroupName'], account_region=row['region']))\n",
    "\n",
    "lambda_graph = dask.delayed()(lambda_process)\n",
    "responses = lambda_graph.compute()"
   ]
  }
 ],
 "metadata": {
  "kernelspec": {
   "display_name": "Python 3 (ipykernel)",
   "language": "python",
   "name": "python3"
  },
  "language_info": {
   "codemirror_mode": {
    "name": "ipython",
    "version": 3
   },
   "file_extension": ".py",
   "mimetype": "text/x-python",
   "name": "python",
   "nbconvert_exporter": "python",
   "pygments_lexer": "ipython3",
   "version": "3.10.12"
  }
 },
 "nbformat": 4,
 "nbformat_minor": 4
}
