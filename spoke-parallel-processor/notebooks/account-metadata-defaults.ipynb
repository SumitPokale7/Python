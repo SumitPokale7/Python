{
 "cells": [
  {
   "cell_type": "code",
   "execution_count": 1,
   "metadata": {},
   "outputs": [],
   "source": [
    "%run 'common-functions.ipynb'"
   ]
  },
  {
   "cell_type": "code",
   "execution_count": 2,
   "metadata": {},
   "outputs": [],
   "source": [
    "@dask.delayed\n",
    "def get_instance_metadata_defaults(client, account_id, account_region):\n",
    "    result = client.get_instance_metadata_defaults()\n",
    "    data = {\"account_id\": [account_id], \"region\": [account_region], \"setting\": [result['AccountLevel']]}\n",
    "    return pd.DataFrame(data)\n"
   ]
  },
  {
   "cell_type": "code",
   "execution_count": 6,
   "metadata": {},
   "outputs": [],
   "source": [
    "@dask.delayed\n",
    "def set_instance_metadata_defaults(client, account_id, account_region):\n",
    "    result = client.modify_instance_metadata_defaults(\n",
    "        HttpTokens=\"required\",\n",
    "        HttpEndpoint=\"enabled\",\n",
    "        HttpPutResponseHopLimit=2\n",
    "    )\n",
    "    return pd.DataFrame(result)"
   ]
  },
  {
   "cell_type": "code",
   "execution_count": 3,
   "metadata": {},
   "outputs": [
    {
     "name": "stdout",
     "output_type": "stream",
     "text": [
      "Accounts to process: 1318\n"
     ]
    }
   ],
   "source": [
    "# fetch accounts from metadata once - so dont need to keep taxing ddb in case of issue\n",
    "custom_filter = (\n",
    "    Attr(\"account-type\").eq(\"Connected\")\n",
    "    | Attr(\"account-type\").eq(\"Foundation\")\n",
    "    | Attr(\"account-type\").eq(\"Standalone\")\n",
    "    | Attr(\"account-type\").eq(\"Sandbox\")\n",
    ")\n",
    "accounts = fetch_accounts_from_metadata(['654654527668'], custom_filter)\n",
    "print(f\"Accounts to process: {len(accounts)}\")\n"
   ]
  },
  {
   "cell_type": "code",
   "execution_count": 4,
   "metadata": {},
   "outputs": [
    {
     "name": "stdout",
     "output_type": "stream",
     "text": [
      "CPU times: user 53.6 s, sys: 1.77 s, total: 55.3 s\n",
      "Wall time: 1min 38s\n"
     ]
    }
   ],
   "source": [
    "%%time\n",
    "# Fetch all cloudwatch log groups across all spokes that dont have a retentionInDays value set\n",
    "master_df = pd.DataFrame()\n",
    "dfs = []\n",
    "for account in accounts:\n",
    "    account_id = account.get(\"account\")\n",
    "    account_region = account.get(\"region\")\n",
    "    if account_region:\n",
    "        client = assume_return_boto_client(\"ec2\", account_id, account_region)\n",
    "        dfs.append(get_instance_metadata_defaults(client, account_id, account_region))\n",
    "\n",
    "graph = dask.delayed()(dfs)\n",
    "results = graph.compute()\n",
    "master_df = pd.concat(results)"
   ]
  },
  {
   "cell_type": "code",
   "execution_count": 5,
   "metadata": {},
   "outputs": [],
   "source": [
    "master_df\n",
    "master_df.to_csv(\"./h3-imds.csv\")"
   ]
  }
 ],
 "metadata": {
  "kernelspec": {
   "display_name": "Python 3 (ipykernel)",
   "language": "python",
   "name": "python3"
  },
  "language_info": {
   "codemirror_mode": {
    "name": "ipython",
    "version": 3
   },
   "file_extension": ".py",
   "mimetype": "text/x-python",
   "name": "python",
   "nbconvert_exporter": "python",
   "pygments_lexer": "ipython3",
   "version": "3.10.14"
  }
 },
 "nbformat": 4,
 "nbformat_minor": 4
}
