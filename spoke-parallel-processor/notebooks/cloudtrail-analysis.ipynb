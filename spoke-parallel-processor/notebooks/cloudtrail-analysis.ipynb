{
 "cells": [
  {
   "cell_type": "code",
   "execution_count": null,
   "id": "3e70333c",
   "metadata": {},
   "outputs": [],
   "source": [
    "%run 'common-functions.ipynb'"
   ]
  },
  {
   "cell_type": "code",
   "execution_count": null,
   "id": "19e460e5-e821-48ce-a999-208ab1382165",
   "metadata": {},
   "outputs": [],
   "source": [
    "CLOUDTRAIL_STARTSWITH_FILTER = \"D\""
   ]
  },
  {
   "cell_type": "code",
   "execution_count": null,
   "id": "66dc901f-d720-4d99-b4d7-6de949e231a0",
   "metadata": {},
   "outputs": [],
   "source": [
    "@dask.delayed\n",
    "def get_cloudtrails(client, account_id, account_region):\n",
    "    paginator = client.get_paginator(\"list_trails\")\n",
    "    page_iterator = paginator.paginate()\n",
    "    data = []\n",
    "    data = [page[\"Trails\"] for page in page_iterator]\n",
    "    df = pd.DataFrame([item for sublist in data for item in sublist])\n",
    "    df[\"account_id\"] = account_id\n",
    "    df[\"region\"] = account_region\n",
    "    return df\n"
   ]
  },
  {
   "cell_type": "code",
   "execution_count": null,
   "id": "460d49bf-1211-4d6b-919b-efedc78ab543",
   "metadata": {},
   "outputs": [],
   "source": [
    "accounts = fetch_accounts_from_metadata()\n"
   ]
  },
  {
   "cell_type": "code",
   "execution_count": null,
   "id": "bcdad071-1b79-472d-b3d7-a45e5dad6179",
   "metadata": {},
   "outputs": [],
   "source": [
    "%%time\n",
    "# Fetch all cloudwatch log groups across all spokes that dont have a retentionInDays value set\n",
    "master_df = pd.DataFrame()\n",
    "dfs = []\n",
    "print(f\"Accounts to process: {len(accounts)}\")\n",
    "for account in accounts:\n",
    "    account_id = account.get(\"account\")\n",
    "    account_region = account.get(\"region\")\n",
    "    if account_region:\n",
    "        client = assume_return_boto_client(\"cloudtrail\", account_id, account_region)\n",
    "        dfs.append(get_cloudtrails(client, account_id, account_region))\n",
    "\n",
    "graph = dask.delayed()(dfs)\n",
    "results = graph.compute()\n",
    "master_df = pd.concat(results)"
   ]
  },
  {
   "cell_type": "code",
   "execution_count": null,
   "id": "be1711d9-4d1d-47b8-a0fc-04a9ee5b5dfe",
   "metadata": {},
   "outputs": [],
   "source": [
    "master_df\n"
   ]
  },
  {
   "cell_type": "code",
   "execution_count": null,
   "id": "363292df-1949-4072-be22-ff520ffa08bd",
   "metadata": {},
   "outputs": [],
   "source": [
    "filtered = master_df[master_df[\"Name\"].str.startswith(CLOUDTRAIL_STARTSWITH_FILTER)]\n",
    "filtered.to_csv(\"./cloudtrails-filtered.csv\")\n"
   ]
  }
 ],
 "metadata": {
  "kernelspec": {
   "display_name": "Python 3 (ipykernel)",
   "language": "python",
   "name": "python3"
  },
  "language_info": {
   "codemirror_mode": {
    "name": "ipython",
    "version": 3
   },
   "file_extension": ".py",
   "mimetype": "text/x-python",
   "name": "python",
   "nbconvert_exporter": "python",
   "pygments_lexer": "ipython3",
   "version": "3.10.12"
  }
 },
 "nbformat": 4,
 "nbformat_minor": 5
}
