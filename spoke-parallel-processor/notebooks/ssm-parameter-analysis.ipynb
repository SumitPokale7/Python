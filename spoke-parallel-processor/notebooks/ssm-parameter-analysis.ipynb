{
 "cells": [
  {
   "cell_type": "code",
   "execution_count": null,
   "id": "08002abd-d846-436a-8dfa-76100e9e43f6",
   "metadata": {},
   "outputs": [],
   "source": [
    "%run 'common-functions.ipynb'\n",
    "PARAM_NAME_BEGINS_WITH_FILTER = [\"Ds\"]\n"
   ]
  },
  {
   "cell_type": "code",
   "execution_count": null,
   "id": "07bdaf44-e2ac-4c8f-91ea-82ff0c7aaaa4",
   "metadata": {},
   "outputs": [],
   "source": [
    "@dask.delayed\n",
    "def get_ssm_params(client, account_id, region):\n",
    "    paginator = client.get_paginator('describe_parameters')\n",
    "    page_iterator = paginator.paginate(\n",
    "        ParameterFilters=[\n",
    "        {\n",
    "            \"Key\": \"Name\",\n",
    "            \"Option\": \"BeginsWith\",\n",
    "            \"Values\": PARAM_NAME_BEGINS_WITH_FILTER\n",
    "        },\n",
    "    ])\n",
    "    data = []\n",
    "    data = [page[\"Parameters\"] for page in page_iterator]\n",
    "    df = pd.DataFrame([item for sublist in data for item in sublist])\n",
    "    df[\"account_id\"] = account_id\n",
    "    df[\"region\"] = region\n",
    "    return df\n"
   ]
  },
  {
   "cell_type": "code",
   "execution_count": null,
   "id": "672a2c0a-2c06-4393-beaf-531f7a240a14",
   "metadata": {},
   "outputs": [],
   "source": [
    "# fetch accounts from metadata once - so dont need to keep taxing ddb in case of issue\n",
    "accounts = fetch_accounts_from_metadata()\n"
   ]
  },
  {
   "cell_type": "code",
   "execution_count": null,
   "id": "893d60e3-b24f-4e4a-980e-51574d359b45",
   "metadata": {},
   "outputs": [],
   "source": [
    "%%time\n",
    "# Fetch all cloudwatch log groups across all spokes that dont have a retentionInDays value set\n",
    "master_df = pd.DataFrame()\n",
    "dfs = []\n",
    "print(f\"Accounts to process: {len(accounts)}\")\n",
    "for account in accounts:\n",
    "    account_id = account.get(\"account\")\n",
    "    account_region = account.get(\"region\")\n",
    "    client = assume_return_boto_client(\"ssm\", account_id, account_region)\n",
    "    dfs.append(get_ssm_params(client, account_id, account_region))\n",
    "\n",
    "print(\"Computing\")\n",
    "graph = dask.delayed()(dfs)\n",
    "results = graph.compute()\n",
    "master_df = pd.concat(results)"
   ]
  },
  {
   "cell_type": "code",
   "execution_count": null,
   "id": "4006db00-0204-4b09-9f22-07f1dfd6d7d7",
   "metadata": {},
   "outputs": [],
   "source": [
    "master_df\n",
    "master_df.to_csv(\"./ssm-params-filtered.csv\")\n"
   ]
  }
 ],
 "metadata": {
  "kernelspec": {
   "display_name": "Python 3 (ipykernel)",
   "language": "python",
   "name": "python3"
  },
  "language_info": {
   "codemirror_mode": {
    "name": "ipython",
    "version": 3
   },
   "file_extension": ".py",
   "mimetype": "text/x-python",
   "name": "python",
   "nbconvert_exporter": "python",
   "pygments_lexer": "ipython3",
   "version": "3.10.12"
  }
 },
 "nbformat": 4,
 "nbformat_minor": 5
}
