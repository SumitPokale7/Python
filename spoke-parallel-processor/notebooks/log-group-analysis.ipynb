{
 "cells": [
  {
   "cell_type": "code",
   "execution_count": null,
   "metadata": {},
   "outputs": [],
   "source": [
    "%run 'common-functions.ipynb'"
   ]
  },
  {
   "cell_type": "code",
   "execution_count": null,
   "metadata": {},
   "outputs": [],
   "source": [
    "CLOUDWATCH_STARTSWITH_FILTER = \"Ds\"\n"
   ]
  },
  {
   "cell_type": "code",
   "execution_count": null,
   "metadata": {},
   "outputs": [],
   "source": [
    "@dask.delayed\n",
    "def get_log_groups(client, account_id, account_region):\n",
    "    paginator = client.get_paginator(\"describe_log_groups\")\n",
    "    page_iterator = paginator.paginate()\n",
    "    data = []\n",
    "    data = [page[\"logGroups\"] for page in page_iterator]\n",
    "    df = pd.DataFrame([item for sublist in data for item in sublist])\n",
    "    df[\"account_id\"] = account_id\n",
    "    df[\"region\"] = account_region\n",
    "    return df\n"
   ]
  },
  {
   "cell_type": "code",
   "execution_count": null,
   "metadata": {},
   "outputs": [],
   "source": [
    "# fetch accounts from metadata once - so dont need to keep taxing ddb in case of issue\n",
    "accounts = fetch_accounts_from_metadata()\n"
   ]
  },
  {
   "cell_type": "code",
   "execution_count": null,
   "metadata": {},
   "outputs": [],
   "source": [
    "%%time\n",
    "# Fetch all cloudwatch log groups across all spokes that dont have a retentionInDays value set\n",
    "master_df = pd.DataFrame()\n",
    "dfs = []\n",
    "print(f\"Accounts to process: {len(accounts)}\")\n",
    "for account in accounts:\n",
    "    account_id = account.get(\"account\")\n",
    "    account_region = account.get(\"region\")\n",
    "    if account_region:\n",
    "        client = assume_return_boto_client(\"logs\", account_id, account_region)\n",
    "        dfs.append(get_log_groups(client, account_id, account_region))\n",
    "\n",
    "graph = dask.delayed()(dfs)\n",
    "results = graph.compute()\n",
    "master_df = pd.concat(results)"
   ]
  },
  {
   "cell_type": "code",
   "execution_count": null,
   "metadata": {},
   "outputs": [],
   "source": [
    "# show data frame\n",
    "master_df\n"
   ]
  },
  {
   "cell_type": "code",
   "execution_count": null,
   "metadata": {},
   "outputs": [],
   "source": [
    "filtered = master_df[\n",
    "    master_df[\"logGroupName\"].str.startswith(CLOUDWATCH_STARTSWITH_FILTER)\n",
    "]\n",
    "filtered\n"
   ]
  }
 ],
 "metadata": {
  "kernelspec": {
   "display_name": "Python 3 (ipykernel)",
   "language": "python",
   "name": "python3"
  },
  "language_info": {
   "codemirror_mode": {
    "name": "ipython",
    "version": 3
   },
   "file_extension": ".py",
   "mimetype": "text/x-python",
   "name": "python",
   "nbconvert_exporter": "python",
   "pygments_lexer": "ipython3",
   "version": "3.10.12"
  }
 },
 "nbformat": 4,
 "nbformat_minor": 4
}
